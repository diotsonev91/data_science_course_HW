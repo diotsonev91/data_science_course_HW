{
 "cells": [
  {
   "cell_type": "code",
   "execution_count": 4,
   "id": "0606b79b-42fd-47f8-958d-7ba08e7bf1a4",
   "metadata": {},
   "outputs": [
    {
     "name": "stdout",
     "output_type": "stream",
     "text": [
      "Raw shape: (2392, 29)\n",
      "Clean shape: (2392, 28)\n",
      "Processed dataset saved to data/processed/asthma_clean.csv\n"
     ]
    }
   ],
   "source": [
    "from src.preprocessing import load_raw_data, clean_data, save_processed_data\n",
    "\n",
    "df_raw = load_raw_data(\"../data/raw/asthma_disease_data.csv\")\n",
    "print(\"Raw shape:\", df_raw.shape)\n",
    "\n",
    "df_clean = clean_data(df_raw)  # uses FE + winsor by default\n",
    "print(\"Clean shape:\", df_clean.shape)\n",
    "\n",
    "save_processed_data(df_clean, \"../data/processed/asthma_clean.csv\")\n",
    "print(\"Processed dataset saved to data/processed/asthma_clean.csv\")\n",
    "\n"
   ]
  },
  {
   "cell_type": "code",
   "execution_count": null,
   "id": "a892b4df-bf18-44b6-a18d-3cc02096bc7e",
   "metadata": {},
   "outputs": [],
   "source": []
  }
 ],
 "metadata": {
  "kernelspec": {
   "display_name": "Python (asthma-lab)",
   "language": "python",
   "name": "asthma-lab"
  },
  "language_info": {
   "codemirror_mode": {
    "name": "ipython",
    "version": 3
   },
   "file_extension": ".py",
   "mimetype": "text/x-python",
   "name": "python",
   "nbconvert_exporter": "python",
   "pygments_lexer": "ipython3",
   "version": "3.10.18"
  }
 },
 "nbformat": 4,
 "nbformat_minor": 5
}
